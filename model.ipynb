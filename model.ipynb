{
 "cells": [
  {
   "cell_type": "code",
   "execution_count": 25,
   "metadata": {},
   "outputs": [],
   "source": [
    "import tensorflow as tf\n",
    "import matplotlib.pyplot as plt\n",
    "import numpy as np\n",
    "import pandas as pd"
   ]
  },
  {
   "cell_type": "code",
   "execution_count": 26,
   "metadata": {},
   "outputs": [
    {
     "name": "stdout",
     "output_type": "stream",
     "text": [
      "Found 251 files belonging to 3 classes.\n"
     ]
    }
   ],
   "source": [
    "size = 128\n",
    "dir='/home/samar/Desktop/project2/covid/Covid19-dataset/train'\n",
    "train_data=tf.keras.utils.image_dataset_from_directory(directory=dir,\n",
    "                                                        labels='inferred',\n",
    "                                                        batch_size=251,\n",
    "                                                        image_size=(size, size))"
   ]
  },
  {
   "cell_type": "code",
   "execution_count": 27,
   "metadata": {},
   "outputs": [],
   "source": [
    "xtrain, ytrain = next(iter(train_data))"
   ]
  },
  {
   "cell_type": "code",
   "execution_count": 28,
   "metadata": {},
   "outputs": [
    {
     "data": {
      "text/plain": [
       "<tf.Tensor: shape=(251,), dtype=int32, numpy=\n",
       "array([1, 1, 0, 0, 2, 1, 2, 1, 0, 0, 1, 2, 0, 0, 1, 0, 1, 0, 2, 0, 0, 1,\n",
       "       0, 1, 1, 2, 0, 0, 0, 0, 0, 0, 1, 2, 2, 1, 1, 0, 2, 0, 0, 1, 0, 2,\n",
       "       2, 0, 0, 1, 2, 2, 1, 1, 0, 1, 0, 2, 1, 0, 0, 0, 0, 1, 1, 0, 0, 1,\n",
       "       0, 0, 2, 0, 1, 1, 2, 1, 2, 0, 1, 0, 2, 0, 0, 2, 0, 0, 0, 1, 0, 0,\n",
       "       2, 1, 0, 1, 1, 2, 2, 2, 0, 2, 2, 0, 0, 0, 2, 0, 0, 0, 2, 1, 0, 0,\n",
       "       0, 0, 1, 2, 0, 0, 2, 1, 0, 1, 2, 1, 0, 2, 0, 0, 1, 1, 2, 1, 2, 0,\n",
       "       0, 0, 0, 1, 1, 1, 2, 0, 0, 2, 1, 1, 1, 2, 0, 0, 2, 0, 0, 1, 0, 0,\n",
       "       2, 2, 0, 1, 0, 0, 1, 0, 1, 1, 2, 1, 0, 2, 0, 2, 2, 0, 0, 2, 2, 0,\n",
       "       2, 2, 2, 2, 2, 2, 2, 0, 0, 1, 1, 2, 1, 0, 0, 2, 1, 2, 2, 1, 2, 0,\n",
       "       0, 1, 1, 0, 0, 0, 2, 1, 2, 0, 2, 0, 0, 1, 1, 2, 1, 2, 0, 2, 0, 0,\n",
       "       0, 1, 0, 0, 0, 2, 2, 1, 1, 2, 0, 1, 0, 2, 0, 1, 0, 2, 2, 2, 0, 0,\n",
       "       0, 0, 2, 1, 1, 1, 0, 0, 1], dtype=int32)>"
      ]
     },
     "execution_count": 28,
     "metadata": {},
     "output_type": "execute_result"
    }
   ],
   "source": [
    "ytrain"
   ]
  },
  {
   "cell_type": "code",
   "execution_count": 29,
   "metadata": {},
   "outputs": [
    {
     "name": "stdout",
     "output_type": "stream",
     "text": [
      "Epoch 1/30\n",
      "1/1 [==============================] - 2s 2s/step - loss: 1.1127 - accuracy: 0.2789\n",
      "Epoch 2/30\n",
      "1/1 [==============================] - 2s 2s/step - loss: 1.3331 - accuracy: 0.4422\n",
      "Epoch 3/30\n",
      "1/1 [==============================] - 2s 2s/step - loss: 1.0193 - accuracy: 0.3267\n",
      "Epoch 4/30\n",
      "1/1 [==============================] - 2s 2s/step - loss: 1.0126 - accuracy: 0.4701\n",
      "Epoch 5/30\n",
      "1/1 [==============================] - 2s 2s/step - loss: 0.9833 - accuracy: 0.3825\n",
      "Epoch 6/30\n",
      "1/1 [==============================] - 2s 2s/step - loss: 0.9151 - accuracy: 0.4542\n",
      "Epoch 7/30\n",
      "1/1 [==============================] - 2s 2s/step - loss: 0.8374 - accuracy: 0.8845\n",
      "Epoch 8/30\n",
      "1/1 [==============================] - 2s 2s/step - loss: 0.7650 - accuracy: 0.8765\n",
      "Epoch 9/30\n",
      "1/1 [==============================] - 2s 2s/step - loss: 0.6890 - accuracy: 0.7888\n",
      "Epoch 10/30\n",
      "1/1 [==============================] - 2s 2s/step - loss: 0.6034 - accuracy: 0.8127\n",
      "Epoch 11/30\n",
      "1/1 [==============================] - 2s 2s/step - loss: 0.5014 - accuracy: 0.8924\n",
      "Epoch 12/30\n",
      "1/1 [==============================] - 2s 2s/step - loss: 0.4056 - accuracy: 0.9243\n",
      "Epoch 13/30\n",
      "1/1 [==============================] - 2s 2s/step - loss: 0.3228 - accuracy: 0.9084\n",
      "Epoch 14/30\n",
      "1/1 [==============================] - 2s 2s/step - loss: 0.2618 - accuracy: 0.9084\n",
      "Epoch 15/30\n",
      "1/1 [==============================] - 2s 2s/step - loss: 0.2181 - accuracy: 0.9163\n",
      "Epoch 16/30\n",
      "1/1 [==============================] - 2s 2s/step - loss: 0.1869 - accuracy: 0.9243\n",
      "Epoch 17/30\n",
      "1/1 [==============================] - 2s 2s/step - loss: 0.1646 - accuracy: 0.9323\n",
      "Epoch 18/30\n",
      "1/1 [==============================] - 2s 2s/step - loss: 0.1508 - accuracy: 0.9442\n",
      "Epoch 19/30\n",
      "1/1 [==============================] - 2s 2s/step - loss: 0.1455 - accuracy: 0.9323\n",
      "Epoch 20/30\n",
      "1/1 [==============================] - 2s 2s/step - loss: 0.1590 - accuracy: 0.9363\n",
      "Epoch 21/30\n",
      "1/1 [==============================] - 2s 2s/step - loss: 0.1691 - accuracy: 0.9203\n",
      "Epoch 22/30\n",
      "1/1 [==============================] - 2s 2s/step - loss: 0.1108 - accuracy: 0.9602\n",
      "Epoch 23/30\n",
      "1/1 [==============================] - 2s 2s/step - loss: 0.1511 - accuracy: 0.9442\n",
      "Epoch 24/30\n",
      "1/1 [==============================] - 2s 2s/step - loss: 0.1085 - accuracy: 0.9442\n",
      "Epoch 25/30\n",
      "1/1 [==============================] - 2s 2s/step - loss: 0.1141 - accuracy: 0.9283\n",
      "Epoch 26/30\n",
      "1/1 [==============================] - 2s 2s/step - loss: 0.0941 - accuracy: 0.9721\n",
      "Epoch 27/30\n",
      "1/1 [==============================] - 2s 2s/step - loss: 0.0951 - accuracy: 0.9641\n",
      "Epoch 28/30\n",
      "1/1 [==============================] - 1s 1s/step - loss: 0.0729 - accuracy: 0.9841\n",
      "Epoch 29/30\n",
      "1/1 [==============================] - 2s 2s/step - loss: 0.0778 - accuracy: 0.9681\n",
      "Epoch 30/30\n",
      "1/1 [==============================] - 1s 1s/step - loss: 0.0556 - accuracy: 0.9841\n"
     ]
    }
   ],
   "source": [
    "num_classes = 3\n",
    "\n",
    "model = tf.keras.Sequential([\n",
    "  tf.keras.layers.Rescaling(1./255, input_shape=(size, size, 3)),\n",
    "  tf.keras.layers.Conv2D(16, 3, padding='same', activation='relu'),\n",
    "  tf.keras.layers.MaxPooling2D(),\n",
    "  tf.keras.layers.Conv2D(32, 3, padding='same', activation='relu'),\n",
    "  tf.keras.layers.MaxPooling2D(),\n",
    "  tf.keras.layers.Conv2D(64, 3, padding='same', activation='relu'),\n",
    "  tf.keras.layers.MaxPooling2D(),\n",
    "  tf.keras.layers.Flatten(),\n",
    "  tf.keras.layers.Dense(128, activation='relu'),\n",
    "  tf.keras.layers.Dense(num_classes)\n",
    "])\n",
    "\n",
    "model.compile(optimizer='adam',\n",
    "              loss=tf.keras.losses.SparseCategoricalCrossentropy(from_logits=True),\n",
    "              metrics=['accuracy'])\n",
    "\n",
    "epochs=30\n",
    "history = model.fit(\n",
    "  train_data,\n",
    "  epochs=epochs\n",
    ")"
   ]
  },
  {
   "cell_type": "code",
   "execution_count": 30,
   "metadata": {},
   "outputs": [
    {
     "name": "stdout",
     "output_type": "stream",
     "text": [
      "Found 66 files belonging to 3 classes.\n"
     ]
    }
   ],
   "source": [
    "size = 128\n",
    "dir='/home/samar/Desktop/project2/covid/Covid19-dataset/test'\n",
    "test_data=tf.keras.utils.image_dataset_from_directory(directory=dir,\n",
    "                                                        labels='inferred',\n",
    "                                                        batch_size=66,\n",
    "                                                        image_size=(size, size))"
   ]
  },
  {
   "cell_type": "code",
   "execution_count": 31,
   "metadata": {},
   "outputs": [],
   "source": [
    "xtest, ytest = next(iter(test_data))"
   ]
  },
  {
   "cell_type": "code",
   "execution_count": 32,
   "metadata": {},
   "outputs": [],
   "source": [
    "y_predict = np.argmax(model.predict(xtest), axis=-1)"
   ]
  },
  {
   "cell_type": "code",
   "execution_count": 33,
   "metadata": {},
   "outputs": [
    {
     "data": {
      "text/plain": [
       "array([0, 1, 1, 0, 1, 2, 1, 1, 0, 1, 1, 0, 1, 1, 0, 2, 2, 0, 2, 0, 1, 1,\n",
       "       1, 1, 2, 0, 0, 2, 0, 2, 2, 0, 1, 1, 0, 0, 1, 1, 1, 2, 0, 0, 2, 2,\n",
       "       1, 2, 1, 0, 0, 0, 0, 0, 2, 1, 0, 2, 2, 2, 0, 2, 0, 1, 0, 0, 0, 0])"
      ]
     },
     "execution_count": 33,
     "metadata": {},
     "output_type": "execute_result"
    }
   ],
   "source": [
    "y_predict"
   ]
  },
  {
   "cell_type": "code",
   "execution_count": 34,
   "metadata": {},
   "outputs": [
    {
     "data": {
      "text/plain": [
       "<tf.Tensor: shape=(66,), dtype=int32, numpy=\n",
       "array([0, 2, 1, 0, 1, 2, 2, 1, 0, 1, 1, 0, 1, 1, 0, 2, 2, 0, 2, 0, 1, 1,\n",
       "       1, 1, 2, 0, 0, 2, 0, 1, 2, 0, 1, 2, 0, 0, 1, 1, 1, 2, 0, 0, 2, 2,\n",
       "       1, 2, 1, 0, 0, 0, 0, 0, 2, 1, 0, 2, 2, 2, 0, 2, 0, 1, 0, 2, 0, 0],\n",
       "      dtype=int32)>"
      ]
     },
     "execution_count": 34,
     "metadata": {},
     "output_type": "execute_result"
    }
   ],
   "source": [
    "ytest"
   ]
  },
  {
   "cell_type": "code",
   "execution_count": 35,
   "metadata": {},
   "outputs": [],
   "source": [
    "a = []\n",
    "for i,j in zip(ytest, y_predict):\n",
    "    if(i==j):\n",
    "        a.append(1)\n",
    "    else: a.append(0)   "
   ]
  },
  {
   "cell_type": "code",
   "execution_count": 36,
   "metadata": {},
   "outputs": [
    {
     "data": {
      "text/plain": [
       "(array([0, 1]), array([ 5, 61]))"
      ]
     },
     "execution_count": 36,
     "metadata": {},
     "output_type": "execute_result"
    }
   ],
   "source": [
    "a = np.array(a)\n",
    "np.unique(a, return_counts=True)"
   ]
  },
  {
   "cell_type": "code",
   "execution_count": 37,
   "metadata": {},
   "outputs": [],
   "source": [
    "model.save('/home/samar/model.h5')"
   ]
  }
 ],
 "metadata": {
  "interpreter": {
   "hash": "916dbcbb3f70747c44a77c7bcd40155683ae19c65e1c03b4aa3499c5328201f1"
  },
  "kernelspec": {
   "display_name": "Python 3.8.10 64-bit",
   "language": "python",
   "name": "python3"
  },
  "language_info": {
   "codemirror_mode": {
    "name": "ipython",
    "version": 3
   },
   "file_extension": ".py",
   "mimetype": "text/x-python",
   "name": "python",
   "nbconvert_exporter": "python",
   "pygments_lexer": "ipython3",
   "version": "3.8.10"
  },
  "orig_nbformat": 4
 },
 "nbformat": 4,
 "nbformat_minor": 2
}
